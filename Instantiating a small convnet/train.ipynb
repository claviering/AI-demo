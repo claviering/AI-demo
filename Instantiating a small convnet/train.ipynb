{
 "cells": [
  {
   "cell_type": "code",
   "execution_count": 24,
   "metadata": {},
   "outputs": [],
   "source": [
    "import tensorflow as tf\n",
    "from tensorflow import keras\n",
    "mnist = keras.datasets.mnist"
   ]
  },
  {
   "cell_type": "code",
   "execution_count": 25,
   "metadata": {},
   "outputs": [],
   "source": [
    "# 加载数据\n",
    "(train_images, train_labels), (test_images, test_labels) = mnist.load_data()\n",
    "# 数据清洗\n",
    "train_images = train_images.reshape((60000, 28, 28, 1))\n",
    "train_images = train_images.astype('float32') / 255\n",
    "test_images = test_images.reshape((10000, 28, 28, 1))\n",
    "test_images = test_images.astype('float32') / 255\n",
    "train_labels = tf.keras.utils.to_categorical(train_labels)\n",
    "test_labels = tf.keras.utils.to_categorical(test_labels)"
   ]
  },
  {
   "cell_type": "code",
   "execution_count": 26,
   "metadata": {},
   "outputs": [
    {
     "output_type": "stream",
     "name": "stdout",
     "text": "Model: \"sequential_3\"\n_________________________________________________________________\nLayer (type)                 Output Shape              Param #   \n=================================================================\nconv2d_9 (Conv2D)            (None, 26, 26, 32)        320       \n_________________________________________________________________\nmax_pooling2d_6 (MaxPooling2 (None, 13, 13, 32)        0         \n_________________________________________________________________\nconv2d_10 (Conv2D)           (None, 11, 11, 64)        18496     \n_________________________________________________________________\nmax_pooling2d_7 (MaxPooling2 (None, 5, 5, 64)          0         \n_________________________________________________________________\nconv2d_11 (Conv2D)           (None, 3, 3, 64)          36928     \n_________________________________________________________________\nflatten_3 (Flatten)          (None, 576)               0         \n_________________________________________________________________\ndense_6 (Dense)              (None, 64)                36928     \n_________________________________________________________________\ndense_7 (Dense)              (None, 10)                650       \n=================================================================\nTotal params: 93,322\nTrainable params: 93,322\nNon-trainable params: 0\n_________________________________________________________________\n"
    }
   ],
   "source": [
    "# 建立模型\n",
    "model = tf.keras.models.Sequential()\n",
    "model.add(tf.keras.layers.Conv2D(32, (3, 3), activation='relu', input_shape=(28, 28, 1)))\n",
    "model.add(tf.keras.layers.MaxPooling2D((2, 2)))\n",
    "model.add(tf.keras.layers.Conv2D(64, (3, 3), activation='relu'))\n",
    "model.add(tf.keras.layers.MaxPooling2D((2, 2)))\n",
    "model.add(tf.keras.layers.Conv2D(64, (3, 3), activation='relu'))\n",
    "model.add(tf.keras.layers.Flatten())\n",
    "model.add(tf.keras.layers.Dense(64, activation='relu'))\n",
    "model.add(tf.keras.layers.Dense(10, activation='softmax'))\n",
    "model.compile(optimizer='rmsprop', loss='sparse_categorical_crossentropy', metrics=['accuracy'])\n",
    "model.summary()"
   ]
  },
  {
   "cell_type": "code",
   "execution_count": 27,
   "metadata": {},
   "outputs": [
    {
     "output_type": "stream",
     "name": "stdout",
     "text": "Train on 60000 samples\nEpoch 1/5\n60000/60000 [==============================] - 59s 988us/sample - loss: 0.1732 - accuracy: 0.9460\nEpoch 2/5\n60000/60000 [==============================] - 58s 968us/sample - loss: 0.0492 - accuracy: 0.9846\nEpoch 3/5\n60000/60000 [==============================] - 55s 909us/sample - loss: 0.0334 - accuracy: 0.9897\nEpoch 4/5\n60000/60000 [==============================] - 37s 618us/sample - loss: 0.0258 - accuracy: 0.9919\nEpoch 5/5\n60000/60000 [==============================] - 42s 697us/sample - loss: 0.0194 - accuracy: 0.9939\n"
    }
   ],
   "source": [
    "# 训练模型\n",
    "history = models.fit(train_images, train_labels, epochs=5, batch_size=64)"
   ]
  },
  {
   "cell_type": "code",
   "execution_count": null,
   "metadata": {},
   "outputs": [],
   "source": []
  }
 ],
 "metadata": {
  "language_info": {
   "codemirror_mode": {
    "name": "ipython",
    "version": 3
   },
   "file_extension": ".py",
   "mimetype": "text/x-python",
   "name": "python",
   "nbconvert_exporter": "python",
   "pygments_lexer": "ipython3",
   "version": "3.7.1-final"
  },
  "orig_nbformat": 2,
  "kernelspec": {
   "name": "python37164bit371pyenvb284397d014c431fb618fbb29aca71c4",
   "display_name": "Python 3.7.1 64-bit ('3.7.1': pyenv)"
  }
 },
 "nbformat": 4,
 "nbformat_minor": 2
}